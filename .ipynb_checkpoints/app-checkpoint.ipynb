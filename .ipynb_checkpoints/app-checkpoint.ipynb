{
 "cells": [
  {
   "cell_type": "code",
   "execution_count": null,
   "id": "80f8af49",
   "metadata": {},
   "outputs": [
    {
     "name": "stdout",
     "output_type": "stream",
     "text": [
      " * Serving Flask app '__main__'\n",
      " * Debug mode: on\n"
     ]
    },
    {
     "name": "stderr",
     "output_type": "stream",
     "text": [
      "WARNING: This is a development server. Do not use it in a production deployment. Use a production WSGI server instead.\n",
      " * Running on all addresses (0.0.0.0)\n",
      " * Running on http://127.0.0.1:5000\n",
      " * Running on http://192.168.39.1:5000\n",
      "Press CTRL+C to quit\n",
      "192.168.39.1 - - [20/Sep/2024 12:40:02] \"GET / HTTP/1.1\" 200 -\n",
      "192.168.39.1 - - [20/Sep/2024 12:40:03] \"GET /favicon.ico HTTP/1.1\" 404 -\n",
      "C:\\Users\\sridh\\AppData\\Local\\Programs\\Python\\Python312\\Lib\\site-packages\\sklearn\\base.py:376: InconsistentVersionWarning: Trying to unpickle estimator DecisionTreeClassifier from version 1.3.0 when using version 1.5.1. This might lead to breaking code or invalid results. Use at your own risk. For more info please refer to:\n",
      "https://scikit-learn.org/stable/model_persistence.html#security-maintainability-limitations\n",
      "  warnings.warn(\n",
      "C:\\Users\\sridh\\AppData\\Local\\Programs\\Python\\Python312\\Lib\\site-packages\\sklearn\\base.py:376: InconsistentVersionWarning: Trying to unpickle estimator RandomForestClassifier from version 1.3.0 when using version 1.5.1. This might lead to breaking code or invalid results. Use at your own risk. For more info please refer to:\n",
      "https://scikit-learn.org/stable/model_persistence.html#security-maintainability-limitations\n",
      "  warnings.warn(\n",
      "C:\\Users\\sridh\\AppData\\Local\\Programs\\Python\\Python312\\Lib\\site-packages\\sklearn\\base.py:376: InconsistentVersionWarning: Trying to unpickle estimator CountVectorizer from version 1.3.0 when using version 1.5.1. This might lead to breaking code or invalid results. Use at your own risk. For more info please refer to:\n",
      "https://scikit-learn.org/stable/model_persistence.html#security-maintainability-limitations\n",
      "  warnings.warn(\n",
      "192.168.39.1 - - [20/Sep/2024 12:43:35] \"POST /prediction HTTP/1.1\" 200 -\n"
     ]
    }
   ],
   "source": [
    "from flask import Flask, render_template, request\n",
    "import joblib\n",
    "\n",
    "app = Flask(__name__)\n",
    "\n",
    "def clean(text):\n",
    "    # Example of a simple preprocessing function\n",
    "    return text.lower()\n",
    "\n",
    "# Home page route\n",
    "@app.route('/')\n",
    "def home():\n",
    "    return render_template('home.html')\n",
    "\n",
    "# Prediction page route\n",
    "@app.route('/prediction', methods=['GET', 'POST'])\n",
    "def prediction():\n",
    "    if request.method == 'POST':\n",
    "        reviewer = request.form.get(\"reviewer_name\")\n",
    "        product = request.form.get('product_name')\n",
    "        review = request.form.get(\"review\")\n",
    "\n",
    "        # Validate that a review was provided\n",
    "        if not review:\n",
    "            message = 'Enter a review.'\n",
    "            return render_template('home.html', message=message)\n",
    "\n",
    "        try:\n",
    "            # Load the model\n",
    "            model = joblib.load('Predictive_Model/random_forest_model.pkl')\n",
    "            vectorize = joblib.load('Predictive_Model/vectorizer.pkl')\n",
    "            transformed_review = vectorize.transform([review])\n",
    "\n",
    "            # Make the prediction using the transformed review\n",
    "            prediction = model.predict(transformed_review)[0]\n",
    "            return render_template('output.html', reviewer=reviewer, product=product, prediction=prediction)\n",
    "\n",
    "        except Exception as e:\n",
    "            # Handle model loading or prediction errors\n",
    "            message = f\"An error occurred: {str(e)}\"\n",
    "            return render_template('home.html', message=message)\n",
    "\n",
    "    # For GET requests, render the home page\n",
    "    return render_template('home.html')\n",
    "\n",
    "if __name__ == \"__main__\":\n",
    "    # Disable the reloader\n",
    "    app.run(debug=True, host='0.0.0.0', port=5000, use_reloader=False)\n"
   ]
  },
  {
   "cell_type": "code",
   "execution_count": null,
   "id": "70e5d251",
   "metadata": {},
   "outputs": [],
   "source": []
  }
 ],
 "metadata": {
  "kernelspec": {
   "display_name": "Python 3 (ipykernel)",
   "language": "python",
   "name": "python3"
  },
  "language_info": {
   "codemirror_mode": {
    "name": "ipython",
    "version": 3
   },
   "file_extension": ".py",
   "mimetype": "text/x-python",
   "name": "python",
   "nbconvert_exporter": "python",
   "pygments_lexer": "ipython3",
   "version": "3.12.2"
  }
 },
 "nbformat": 4,
 "nbformat_minor": 5
}
